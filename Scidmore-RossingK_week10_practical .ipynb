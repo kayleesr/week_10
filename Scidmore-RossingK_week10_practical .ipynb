{
 "cells": [
  {
   "cell_type": "markdown",
   "id": "7de61552",
   "metadata": {},
   "source": [
    "* Here you'll generate your own data to make sure you understand what PCA is doing\n",
    "\n",
    "* Generate 4 variables W, X, Y, and Z\n",
    "\n",
    "1. X and Y should not be correlated\n",
    "  * They are independent\n",
    "\n",
    "2. W and X should have a mild correlation ( < 0.5)\n",
    "\n",
    "3. Y and Z should have a mild correlation ( > 0.9)\n",
    "\n",
    "* Here, it's important to note that:\n",
    "  1. The correction of two variables A and B is not determined by the linear regression\n",
    "    * $B = 0.4 \\times X$ does not mean that the correlation cor(A,B) = 0.4\n",
    "  2. Correction is factor of the noise in the linear regressio. \n",
    "     * For example, for  $B = 0.4 \\times X + \\epsilon$, the larger the noise component, the samller will be the correction between A and B\n",
    "   \n",
    "\n",
    "4. Generate a variable outcome as a linear combination of W, X, Y, and Z\n",
    "  * i.e., choose values for the coefficients $\\beta_0$, $\\beta_1$, etc.. and compute `outcome` \n",
    " \n",
    " \n",
    " $$outcome = \\beta_0 + \\beta_1 \\times W + \\beta_2 \\times X + \\beta_3 \\times Y + \\beta_4 \\times Z$$"
   ]
  },
  {
   "cell_type": "markdown",
   "id": "6c97b474",
   "metadata": {},
   "source": [
    "5. Model your outcome using W, X, Y, and Z.\n",
    "  * Do your results match your model params?"
   ]
  },
  {
   "cell_type": "markdown",
   "id": "ab6754a8",
   "metadata": {},
   "source": [
    "6. Use PCA to reduce the dimensionality of your dataset\n",
    "  * Can you explain why you don't need to include the outcome?     "
   ]
  },
  {
   "cell_type": "markdown",
   "id": "8b851bc6",
   "metadata": {},
   "source": [
    "7. Use the bi-plot to visualize the contributions of your initial variables"
   ]
  },
  {
   "cell_type": "markdown",
   "id": "aac6da7c",
   "metadata": {},
   "source": [
    "8. How efficient is the new lower-dimensional space representation at predicting the outcome?\n",
    "  * Do your results match your model params?"
   ]
  },
  {
   "cell_type": "code",
   "execution_count": null,
   "id": "7b4ba345",
   "metadata": {},
   "outputs": [],
   "source": [
    "#code from R markdown with help from Sam Shedd \n",
    "\n",
    "library(tidyverse)\n",
    "library(dplyr)\n",
    "library(ggplot2)\n",
    "\n",
    "W <- rnorm(10, 2, 1)\n",
    "X <- 2*W + 1\n",
    "cor(W, X)\n",
    "error <- rnorm(10, 2, 1)\n",
    "X <- 0.25*W + error\n",
    "cor(W, X)\n",
    "\n",
    "Y <- rnorm(10, 2, 1)\n",
    "Z <- 2*Y + 1\n",
    "cor(Y, Z)\n",
    "error_1 <- rnorm(10, 2, 1)\n",
    "Z <- 3*Y + error\n",
    "cor(Y, Z)\n",
    "\n",
    "df_1 <- data.frame(W, X, Y, Z)\n",
    "View(df_1)\n",
    "\n",
    "lm_xy = lm(x~y, df_1)\n",
    "lm_yz = lm(y~z, df_1)\n",
    "lm_xw = lm(x~w, df_1)\n",
    "summary(lm_yz)\n",
    "summary(lm_xw)\n",
    "\n",
    "outcome <- 7 + 9 * W + 3 * X + 1 * Y + 2 * Z\n",
    "\n",
    "ggplot(df_1, aes(x = outcome)) +\n",
    "  geom_point() + \n",
    "  geom_line(aes(y = W), color = \"darkred\") + \n",
    "  geom_line(aes(y = X), color = \"blue\") +\n",
    "  geom_line(aes(y = Y), color = \"green\") +\n",
    "  geom_line(aes(y = Z), color = \"purple\")\n",
    "\n",
    "pca_wxyz = prcomp(df_1, scale=TRUE)\n",
    "str(pca_wxyz)\n",
    "pca_wxyz$sdev^2 / sum(pca_wxyz$sdev^2)\n",
    "\n",
    "fviz_pca_biplot(pca_wxyz)\n"
   ]
  }
 ],
 "metadata": {
  "kernelspec": {
   "display_name": "R",
   "language": "R",
   "name": "ir"
  },
  "language_info": {
   "codemirror_mode": "r",
   "file_extension": ".r",
   "mimetype": "text/x-r-source",
   "name": "R",
   "pygments_lexer": "r",
   "version": "3.6.1"
  }
 },
 "nbformat": 4,
 "nbformat_minor": 5
}
